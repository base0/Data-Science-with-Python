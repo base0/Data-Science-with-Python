{
 "cells": [
  {
   "cell_type": "markdown",
   "metadata": {},
   "source": [
    "# PHP Script\n",
    "\n",
    "```\n",
    "<?php\n",
    "echo $_SERVER['REQUEST_METHOD'], ' ';\n",
    "\n",
    "echo $_GET['param1'], ' ';\n",
    "echo $_POST['param2'], ' ';\n",
    "?>\n",
    "```"
   ]
  },
  {
   "cell_type": "code",
   "execution_count": 23,
   "metadata": {},
   "outputs": [],
   "source": [
    "from urllib import request, parse\n",
    "\n",
    "url = 'http://pirun.ku.ac.th/%7efsciwss/temp/test.php?param1=hello'"
   ]
  },
  {
   "cell_type": "code",
   "execution_count": 24,
   "metadata": {},
   "outputs": [
    {
     "data": {
      "text/plain": [
       "'GET hello  '"
      ]
     },
     "execution_count": 24,
     "metadata": {},
     "output_type": "execute_result"
    }
   ],
   "source": [
    "resp = request.urlopen(url)\n",
    "resp.read().decode('utf8')"
   ]
  },
  {
   "cell_type": "code",
   "execution_count": 25,
   "metadata": {},
   "outputs": [
    {
     "data": {
      "text/plain": [
       "'POST hello world '"
      ]
     },
     "execution_count": 25,
     "metadata": {},
     "output_type": "execute_result"
    }
   ],
   "source": [
    "params = parse.urlencode({'param2': 'world'}).encode(\"utf-8\")\n",
    "\n",
    "resp = request.urlopen(url, params)\n",
    "resp.read().decode('utf8')"
   ]
  },
  {
   "cell_type": "code",
   "execution_count": 26,
   "metadata": {},
   "outputs": [
    {
     "data": {
      "text/plain": [
       "'PUT hello  '"
      ]
     },
     "execution_count": 26,
     "metadata": {},
     "output_type": "execute_result"
    }
   ],
   "source": [
    "params = parse.urlencode({'param2': 'world'}).encode(\"utf-8\")\n",
    "req  = request.Request(url, data=params, method='PUT')\n",
    "\n",
    "resp = request.urlopen(req)\n",
    "resp.read().decode('utf8')"
   ]
  }
 ],
 "metadata": {
  "kernelspec": {
   "display_name": "Python 3",
   "language": "python",
   "name": "python3"
  },
  "language_info": {
   "codemirror_mode": {
    "name": "ipython",
    "version": 3
   },
   "file_extension": ".py",
   "mimetype": "text/x-python",
   "name": "python",
   "nbconvert_exporter": "python",
   "pygments_lexer": "ipython3",
   "version": "3.6.5"
  }
 },
 "nbformat": 4,
 "nbformat_minor": 2
}
