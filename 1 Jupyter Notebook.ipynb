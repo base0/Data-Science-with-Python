{
 "cells": [
  {
   "cell_type": "markdown",
   "metadata": {},
   "source": [
    "# Jupyter Notebook\n",
    "\n",
    "วรเศรษฐ สุวรรณิก\n",
    "\n",
    "1. Python Script\n",
    "1. MD\n",
    "    - heading\n",
    "    - bullet, number\n",
    "    - latex math\n",
    "    - insert a picture\n",
    "1. Interactive\n",
    "1. API Key"
   ]
  },
  {
   "cell_type": "markdown",
   "metadata": {},
   "source": [
    "# Python Script\n",
    "\n",
    "รันโดยกด shift+enter หรือ control+enter หรือเลือกจากเมนู"
   ]
  },
  {
   "cell_type": "code",
   "execution_count": null,
   "metadata": {},
   "outputs": [],
   "source": [
    "1+2"
   ]
  },
  {
   "cell_type": "markdown",
   "metadata": {},
   "source": [
    "underscore เก็บผลการคำนวณของ cell สุดท้ายที่รันไว้"
   ]
  },
  {
   "cell_type": "code",
   "execution_count": null,
   "metadata": {},
   "outputs": [],
   "source": [
    "1+2"
   ]
  },
  {
   "cell_type": "code",
   "execution_count": null,
   "metadata": {},
   "outputs": [],
   "source": [
    "_"
   ]
  },
  {
   "cell_type": "markdown",
   "metadata": {},
   "source": [
    "ทวนเรื่อง lambda\n",
    "\n",
    "lambda คือ function ที่ไม่มีชื่อ\n",
    "\n",
    "ฟังก์ชันที่มีชื่อ เช่น\n",
    "\n",
    "```\n",
    "def f(n):\n",
    "    return n + 1\n",
    "```\n",
    "\n",
    "เมื่อแปลงเป็น lambda จะได้\n",
    "\n",
    "```\n",
    "lambda n : n + 1\n",
    "```\n"
   ]
  },
  {
   "cell_type": "markdown",
   "metadata": {},
   "source": [
    "**exercise**\n",
    "\n",
    "1. shift+enter หรือ control+enter ต่างกันอย่างไร\n",
    "1. ลูปค้าง แก้อย่างไร (ดูเมนู kernel)"
   ]
  },
  {
   "cell_type": "markdown",
   "metadata": {},
   "source": [
    "# MD\n",
    "\n",
    "- heading `#`\n",
    "- bullet `-`\n",
    "- number `1.`\n",
    "- bold `**`\n",
    "- link `[text](url)`\n",
    "- image `![](worasait.png)`\n",
    "- latex math `$x_1$`\n",
    "\n",
    "**exercise** เขียนข้อความที่มี \n",
    "\n",
    "1. heading 2 ระดับ \n",
    "1. bullet 2 ระดับ\n",
    "1. link ไปยังเว็บเกษตรศาสตร์\n",
    "1. upload รูปแล้วนำรูปมาแสดง"
   ]
  },
  {
   "cell_type": "code",
   "execution_count": null,
   "metadata": {},
   "outputs": [],
   "source": []
  },
  {
   "cell_type": "markdown",
   "metadata": {},
   "source": [
    "# Interactive\n",
    "\n",
    "ใช้สไลด์เดอร์ช่วยในการปรับค่าพารามิเตอร์\n",
    "\n",
    "ตอนนี้ยังใช้กับ JupyterLab ใน CC Labs ไม่ได้"
   ]
  },
  {
   "cell_type": "code",
   "execution_count": null,
   "metadata": {},
   "outputs": [],
   "source": [
    "from ipywidgets import interact\n",
    "\n",
    "def f(n): print(n+1)\n",
    "\n",
    "interact(f, n=(1,10,2))"
   ]
  },
  {
   "cell_type": "markdown",
   "metadata": {},
   "source": [
    "**exercise** วาดสี่เหลี่ยมแบบ interactive เช่น สี่เหลี่ยมขนาด $5\\times3$\n",
    "\n",
    "    ######\n",
    "    ######\n",
    "    ######"
   ]
  },
  {
   "cell_type": "code",
   "execution_count": null,
   "metadata": {},
   "outputs": [],
   "source": [
    "def rect(w, h):\n",
    "    ...\n",
    "    \n",
    "interact(...)"
   ]
  },
  {
   "cell_type": "markdown",
   "metadata": {},
   "source": [
    "# API Key\n",
    "\n",
    "## `import` เจ้าเก่า\n",
    "\n",
    "ใช้การ import ไฟล์\n",
    "\n",
    "## OS environment\n",
    "\n",
    "ดูโค้ด\n"
   ]
  },
  {
   "cell_type": "code",
   "execution_count": null,
   "metadata": {},
   "outputs": [],
   "source": [
    "%env api_key=NOKSG5OHD5JIJF2CIOGGPNGO3DQT0OWQB1ZQYQYBCXSLMF5O"
   ]
  },
  {
   "cell_type": "code",
   "execution_count": null,
   "metadata": {},
   "outputs": [],
   "source": [
    "!echo \"$api_key\""
   ]
  },
  {
   "cell_type": "code",
   "execution_count": null,
   "metadata": {},
   "outputs": [],
   "source": [
    "import os\n",
    "os.environ.get('api_key', None)"
   ]
  },
  {
   "cell_type": "markdown",
   "metadata": {},
   "source": [
    "**exercise** `import`\n",
    "\n",
    "สร้างไฟล์ชื่อ myconfig.py ในไฟล์ประกาศสตริง api_key = 'asdfasdf' รันโค้ดต่อไปนี้ (อาจจะต้อง reload jupyterlab)"
   ]
  },
  {
   "cell_type": "code",
   "execution_count": null,
   "metadata": {},
   "outputs": [],
   "source": [
    "import myconfig\n",
    "\n",
    "myconfig.api_key"
   ]
  }
 ],
 "metadata": {
  "kernelspec": {
   "display_name": "Python 3",
   "language": "python",
   "name": "python3"
  },
  "language_info": {
   "codemirror_mode": {
    "name": "ipython",
    "version": 3
   },
   "file_extension": ".py",
   "mimetype": "text/x-python",
   "name": "python",
   "nbconvert_exporter": "python",
   "pygments_lexer": "ipython3",
   "version": "3.6.5"
  }
 },
 "nbformat": 4,
 "nbformat_minor": 2
}
